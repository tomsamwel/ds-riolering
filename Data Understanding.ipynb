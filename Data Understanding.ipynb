{
 "cells": [
  {
   "cell_type": "markdown",
   "id": "4595ed1a",
   "metadata": {
    "pycharm": {
     "name": "#%% md\n"
    }
   },
   "source": [
    "# Business Understanding\n",
    "\n",
    "Gemeente Zwolle wil integraal te werk gaan met de verschillende afdelingen die betrokken zijn met wegen die opengemaakt moeten worden voor onderhoud of aanpassingen. Voor ons is het de taak om dit met de afdelingen groen (bomen), grijs (wegen) en blauw (riool) te coördineren en op basis van de beschikbare data waarde te realiseren naar de gemeente. Als groep gaan wij bezig met het deel blauw waarin onze opdrachtgever graag een model wilt hebben die hem kan assisteren met besluiten maken over onderhoud van het riool, en of dit gecombineerd kan worden met wegonderhoud en of groenonderhoud. Aan ons de taak om op basis van de aangeleverde data een beslismodel te maken voor de stakeholder Gerrit die hem kan assisteren met het bepalen of een riool gereinigd, vervangen of gerepareerd moet worden. Waar mogelijk dienen wij dit te combineren met de andere afdelingen namelijk wegen en groen.  "
   ]
  },
  {
   "cell_type": "markdown",
   "id": "61eaba2b",
   "metadata": {
    "pycharm": {
     "name": "#%% md\n"
    }
   },
   "source": [
    "Als tweede doel wilt Gemeente Zwolle een goede samenwerking tussen de verschillende afdelingen (groen, grijs en blauw) om efficienter te werken. Bijv. een weg open trekken wanneer zowel het riool eronder en de weg zeg aan onderhoud toe zijn. Om zo kort mogelijk een weg af te zetten en geld en tijd te besparen."
   ]
  },
  {
   "cell_type": "markdown",
   "id": "8cb1b4d1",
   "metadata": {
    "pycharm": {
     "name": "#%% md\n"
    }
   },
   "source": [
    "Gemeente zwolle hanteert 4 beoordelings aspecten (BDD, BAF, BCC, BAB). De beoodelingsaspecten bevatten een waarde van klasse 1 t/m 5. (klasse 1: geen actie nodig ... klasse 5: hoge nood). \n",
    "- BDD: waterdiepte\n",
    "- BAF: maat van aantasting\n",
    "- BCC: Kromming in riool\n",
    "- BAB: Scheuren"
   ]
  },
  {
   "cell_type": "markdown",
   "id": "02433a91-615c-4e8c-81af-d84f966d4f62",
   "metadata": {
    "pycharm": {
     "name": "#%% md\n"
    }
   },
   "source": [
    "## Data Understanding"
   ]
  },
  {
   "cell_type": "code",
   "execution_count": 1,
   "id": "00bbc334",
   "metadata": {
    "pycharm": {
     "name": "#%%\n"
    }
   },
   "outputs": [],
   "source": [
    "from simpledbf import Dbf5\n",
    "import pandas as pd\n",
    "import matplotlib.pyplot as plt\n",
    "import seaborn as sns\n",
    "import geopandas as gpd"
   ]
  },
  {
   "cell_type": "code",
   "execution_count": 2,
   "id": "1bff83b5",
   "metadata": {
    "pycharm": {
     "name": "#%%\n"
    }
   },
   "outputs": [],
   "source": [
    "# Import data\n",
    "dbf_levensduur = Dbf5('data/Riooldata/Levensduur.dbf')\n",
    "dbf_riolering = Dbf5('data/Riooldata/Riolering.dbf')\n",
    "dbf_schades = Dbf5('data/Riooldata/Schades.dbf')\n",
    "\n",
    "dbf_putten = Dbf5(r'data/riolering april 2022/putten.dbf')\n",
    "dbf_putten_toekomst = Dbf5(r'data/riolering april 2022/putten-toekomst.dbf')\n",
    "dbf_strengen = Dbf5(r'data/riolering april 2022/Strengen.dbf')\n",
    "dbf_strengen_toekomst = Dbf5(r'data/riolering april 2022/Strengen-toekomst.dbf')"
   ]
  },
  {
   "cell_type": "code",
   "execution_count": 3,
   "id": "d7641e51",
   "metadata": {
    "pycharm": {
     "name": "#%%\n"
    }
   },
   "outputs": [],
   "source": [
    "# Convert data to dataframes\n",
    "df_levensduur = dbf_levensduur.to_dataframe()\n",
    "df_riolering = dbf_riolering.to_dataframe()\n",
    "df_schades = dbf_schades.to_dataframe()\n",
    "\n",
    "df_putten = dbf_putten.to_dataframe()\n",
    "df_putten_toekomst = dbf_putten_toekomst.to_dataframe()\n",
    "df_strengen = dbf_strengen.to_dataframe()\n",
    "df_strengen_toekomst = dbf_strengen_toekomst.to_dataframe()"
   ]
  },
  {
   "cell_type": "code",
   "execution_count": 4,
   "id": "08d98d60",
   "metadata": {
    "pycharm": {
     "name": "#%%\n"
    }
   },
   "outputs": [
    {
     "name": "stdout",
     "output_type": "stream",
     "text": [
      "<class 'pandas.core.frame.DataFrame'>\n",
      "RangeIndex: 12988 entries, 0 to 12987\n",
      "Data columns (total 20 columns):\n",
      " #   Column      Non-Null Count  Dtype  \n",
      "---  ------      --------------  -----  \n",
      " 0   BEHEEROBJE  12988 non-null  object \n",
      " 1   BAB         27 non-null     object \n",
      " 2   BAF         4421 non-null   object \n",
      " 3   BBC         12438 non-null  object \n",
      " 4   BDD         12602 non-null  object \n",
      " 5   JAARAANLEG  12988 non-null  int64  \n",
      " 6   RISICOPROF  12988 non-null  object \n",
      " 7   JAARINSPEC  12988 non-null  int64  \n",
      " 8   STRAATNAAM  12988 non-null  object \n",
      " 9   KNOOPPUNT_  12988 non-null  object \n",
      " 10  KNOOPPUNT1  12988 non-null  object \n",
      " 11  BOB_BEGINK  12988 non-null  float64\n",
      " 12  BOB_EINDKN  12988 non-null  float64\n",
      " 13  BREEDTE_DI  12988 non-null  float64\n",
      " 14  MATERIAAL   12981 non-null  object \n",
      " 15  LENGTE      12988 non-null  float64\n",
      " 16  SHAPE_Leng  12988 non-null  float64\n",
      " 17  HOOGTE      12988 non-null  float64\n",
      " 18  VORM        12985 non-null  object \n",
      " 19  CATEGORIE   12988 non-null  object \n",
      "dtypes: float64(6), int64(2), object(12)\n",
      "memory usage: 2.0+ MB\n"
     ]
    }
   ],
   "source": [
    "df_levensduur.info()"
   ]
  },
  {
   "cell_type": "code",
   "execution_count": 5,
   "id": "95d2aebf",
   "metadata": {
    "pycharm": {
     "name": "#%%\n"
    }
   },
   "outputs": [
    {
     "data": {
      "text/plain": "          BEHEEROBJE  BAB  BAF  BBC  BDD  JAARAANLEG RISICOPROF  JAARINSPEC  \\\n0      LEI-001-19514  NaN    3    1    4        2009       Hoog        2017   \n1      LEI-001-19515  NaN    3    1    4        2009       Hoog        2017   \n2      LEI-001-19223  NaN  NaN    1    4        2008       Hoog        2018   \n3      LEI-001-12083  NaN  NaN    1    4        2014       Laag        2020   \n4      LEI-001-18143  NaN  NaN    1    4        2006       Laag        2018   \n...              ...  ...  ...  ...  ...         ...        ...         ...   \n12983  LEI-001-15561  NaN  NaN    1    3        1951       Hoog        2018   \n12984  LEI-001-18968  NaN  NaN  NaN  NaN        2006       Hoog        2018   \n12985  LEI-001-18216  NaN  NaN    1    1        1999       Hoog        2018   \n12986  LEI-001-01434  NaN  NaN    1    1        1987       Hoog        2016   \n12987  LEI-001-11665  NaN  NaN  NaN  NaN        1966       Hoog        2020   \n\n                    STRAATNAAM KNOOPPUNT_ KNOOPPUNT1  BOB_BEGINK  BOB_EINDKN  \\\n0                       Botlek      20241      12833       -0.85       -0.90   \n1                       Botlek      20241      12834       -0.85       -0.90   \n2        Wethouder Alferinkweg      20528      19475       -0.86       -0.86   \n3                Vestingstraat      19764      19884        0.06        0.11   \n4               Hofstedestraat      17558      17557       -2.99       -2.96   \n...                        ...        ...        ...         ...         ...   \n12983  Bisschop Willebrandlaan       7437       7438        0.10        0.10   \n12984             Hasselterweg      17287      17294       -0.85       -0.85   \n12985             Milligerlaan      14407      14426       -2.32       -2.27   \n12986               Lichterweg       5481       5482       -0.39       -0.40   \n12987                  Marsweg       9162       9161       -0.69       -0.77   \n\n       BREEDTE_DI MATERIAAL  LENGTE  SHAPE_Leng  HOOGTE  VORM  \\\n0           600.0     Beton   14.62   14.616583     0.0  Rond   \n1           600.0     Beton   14.55   14.554577     0.0  Rond   \n2          1250.0     Beton    6.15    6.153251     0.0  Rond   \n3           250.0       Pvc    8.34    8.341013     0.0  Rond   \n4           250.0       Pvc   29.60   29.599394     0.0  Rond   \n...           ...       ...     ...         ...     ...   ...   \n12983       300.0     Beton   62.43   62.432041     0.0  Rond   \n12984       500.0     Beton   91.76   91.756008     0.0  Rond   \n12985       250.0     Beton   47.34   47.335442     0.0  Rond   \n12986       500.0     Beton   36.62   36.621192     0.0  Rond   \n12987       300.0     Beton   59.56   59.558000     0.0  Rond   \n\n                                               CATEGORIE  \n0                                    Gegarandeerd 3 jaar  \n1                                    Gegarandeerd 3 jaar  \n2                                    Gegarandeerd 3 jaar  \n3                                    Gegarandeerd 5 jaar  \n4                                    Gegarandeerd 5 jaar  \n...                                                  ...  \n12983  \u0000\u0000\u0000\u0000\u0000\u0000\u0000\u0000\u0000\u0000\u0000\u0000\u0000\u0000\u0000\u0000\u0000\u0000\u0000\u0000\u0000\u0000\u0000\u0000\u0000\u0000\u0000\u0000\u0000\u0000\u0000\u0000\u0000\u0000\u0000\u0000\u0000\u0000\u0000\u0000\u0000\u0000\u0000\u0000\u0000\u0000...  \n12984  \u0000\u0000\u0000\u0000\u0000\u0000\u0000\u0000\u0000\u0000\u0000\u0000\u0000\u0000\u0000\u0000\u0000\u0000\u0000\u0000\u0000\u0000\u0000\u0000\u0000\u0000\u0000\u0000\u0000\u0000\u0000\u0000\u0000\u0000\u0000\u0000\u0000\u0000\u0000\u0000\u0000\u0000\u0000\u0000\u0000\u0000...  \n12985  \u0000\u0000\u0000\u0000\u0000\u0000\u0000\u0000\u0000\u0000\u0000\u0000\u0000\u0000\u0000\u0000\u0000\u0000\u0000\u0000\u0000\u0000\u0000\u0000\u0000\u0000\u0000\u0000\u0000\u0000\u0000\u0000\u0000\u0000\u0000\u0000\u0000\u0000\u0000\u0000\u0000\u0000\u0000\u0000\u0000\u0000...  \n12986  \u0000\u0000\u0000\u0000\u0000\u0000\u0000\u0000\u0000\u0000\u0000\u0000\u0000\u0000\u0000\u0000\u0000\u0000\u0000\u0000\u0000\u0000\u0000\u0000\u0000\u0000\u0000\u0000\u0000\u0000\u0000\u0000\u0000\u0000\u0000\u0000\u0000\u0000\u0000\u0000\u0000\u0000\u0000\u0000\u0000\u0000...  \n12987  \u0000\u0000\u0000\u0000\u0000\u0000\u0000\u0000\u0000\u0000\u0000\u0000\u0000\u0000\u0000\u0000\u0000\u0000\u0000\u0000\u0000\u0000\u0000\u0000\u0000\u0000\u0000\u0000\u0000\u0000\u0000\u0000\u0000\u0000\u0000\u0000\u0000\u0000\u0000\u0000\u0000\u0000\u0000\u0000\u0000\u0000...  \n\n[12988 rows x 20 columns]",
      "text/html": "<div>\n<style scoped>\n    .dataframe tbody tr th:only-of-type {\n        vertical-align: middle;\n    }\n\n    .dataframe tbody tr th {\n        vertical-align: top;\n    }\n\n    .dataframe thead th {\n        text-align: right;\n    }\n</style>\n<table border=\"1\" class=\"dataframe\">\n  <thead>\n    <tr style=\"text-align: right;\">\n      <th></th>\n      <th>BEHEEROBJE</th>\n      <th>BAB</th>\n      <th>BAF</th>\n      <th>BBC</th>\n      <th>BDD</th>\n      <th>JAARAANLEG</th>\n      <th>RISICOPROF</th>\n      <th>JAARINSPEC</th>\n      <th>STRAATNAAM</th>\n      <th>KNOOPPUNT_</th>\n      <th>KNOOPPUNT1</th>\n      <th>BOB_BEGINK</th>\n      <th>BOB_EINDKN</th>\n      <th>BREEDTE_DI</th>\n      <th>MATERIAAL</th>\n      <th>LENGTE</th>\n      <th>SHAPE_Leng</th>\n      <th>HOOGTE</th>\n      <th>VORM</th>\n      <th>CATEGORIE</th>\n    </tr>\n  </thead>\n  <tbody>\n    <tr>\n      <th>0</th>\n      <td>LEI-001-19514</td>\n      <td>NaN</td>\n      <td>3</td>\n      <td>1</td>\n      <td>4</td>\n      <td>2009</td>\n      <td>Hoog</td>\n      <td>2017</td>\n      <td>Botlek</td>\n      <td>20241</td>\n      <td>12833</td>\n      <td>-0.85</td>\n      <td>-0.90</td>\n      <td>600.0</td>\n      <td>Beton</td>\n      <td>14.62</td>\n      <td>14.616583</td>\n      <td>0.0</td>\n      <td>Rond</td>\n      <td>Gegarandeerd 3 jaar</td>\n    </tr>\n    <tr>\n      <th>1</th>\n      <td>LEI-001-19515</td>\n      <td>NaN</td>\n      <td>3</td>\n      <td>1</td>\n      <td>4</td>\n      <td>2009</td>\n      <td>Hoog</td>\n      <td>2017</td>\n      <td>Botlek</td>\n      <td>20241</td>\n      <td>12834</td>\n      <td>-0.85</td>\n      <td>-0.90</td>\n      <td>600.0</td>\n      <td>Beton</td>\n      <td>14.55</td>\n      <td>14.554577</td>\n      <td>0.0</td>\n      <td>Rond</td>\n      <td>Gegarandeerd 3 jaar</td>\n    </tr>\n    <tr>\n      <th>2</th>\n      <td>LEI-001-19223</td>\n      <td>NaN</td>\n      <td>NaN</td>\n      <td>1</td>\n      <td>4</td>\n      <td>2008</td>\n      <td>Hoog</td>\n      <td>2018</td>\n      <td>Wethouder Alferinkweg</td>\n      <td>20528</td>\n      <td>19475</td>\n      <td>-0.86</td>\n      <td>-0.86</td>\n      <td>1250.0</td>\n      <td>Beton</td>\n      <td>6.15</td>\n      <td>6.153251</td>\n      <td>0.0</td>\n      <td>Rond</td>\n      <td>Gegarandeerd 3 jaar</td>\n    </tr>\n    <tr>\n      <th>3</th>\n      <td>LEI-001-12083</td>\n      <td>NaN</td>\n      <td>NaN</td>\n      <td>1</td>\n      <td>4</td>\n      <td>2014</td>\n      <td>Laag</td>\n      <td>2020</td>\n      <td>Vestingstraat</td>\n      <td>19764</td>\n      <td>19884</td>\n      <td>0.06</td>\n      <td>0.11</td>\n      <td>250.0</td>\n      <td>Pvc</td>\n      <td>8.34</td>\n      <td>8.341013</td>\n      <td>0.0</td>\n      <td>Rond</td>\n      <td>Gegarandeerd 5 jaar</td>\n    </tr>\n    <tr>\n      <th>4</th>\n      <td>LEI-001-18143</td>\n      <td>NaN</td>\n      <td>NaN</td>\n      <td>1</td>\n      <td>4</td>\n      <td>2006</td>\n      <td>Laag</td>\n      <td>2018</td>\n      <td>Hofstedestraat</td>\n      <td>17558</td>\n      <td>17557</td>\n      <td>-2.99</td>\n      <td>-2.96</td>\n      <td>250.0</td>\n      <td>Pvc</td>\n      <td>29.60</td>\n      <td>29.599394</td>\n      <td>0.0</td>\n      <td>Rond</td>\n      <td>Gegarandeerd 5 jaar</td>\n    </tr>\n    <tr>\n      <th>...</th>\n      <td>...</td>\n      <td>...</td>\n      <td>...</td>\n      <td>...</td>\n      <td>...</td>\n      <td>...</td>\n      <td>...</td>\n      <td>...</td>\n      <td>...</td>\n      <td>...</td>\n      <td>...</td>\n      <td>...</td>\n      <td>...</td>\n      <td>...</td>\n      <td>...</td>\n      <td>...</td>\n      <td>...</td>\n      <td>...</td>\n      <td>...</td>\n      <td>...</td>\n    </tr>\n    <tr>\n      <th>12983</th>\n      <td>LEI-001-15561</td>\n      <td>NaN</td>\n      <td>NaN</td>\n      <td>1</td>\n      <td>3</td>\n      <td>1951</td>\n      <td>Hoog</td>\n      <td>2018</td>\n      <td>Bisschop Willebrandlaan</td>\n      <td>7437</td>\n      <td>7438</td>\n      <td>0.10</td>\n      <td>0.10</td>\n      <td>300.0</td>\n      <td>Beton</td>\n      <td>62.43</td>\n      <td>62.432041</td>\n      <td>0.0</td>\n      <td>Rond</td>\n      <td>\u0000\u0000\u0000\u0000\u0000\u0000\u0000\u0000\u0000\u0000\u0000\u0000\u0000\u0000\u0000\u0000\u0000\u0000\u0000\u0000\u0000\u0000\u0000\u0000\u0000\u0000\u0000\u0000\u0000\u0000\u0000\u0000\u0000\u0000\u0000\u0000\u0000\u0000\u0000\u0000\u0000\u0000\u0000\u0000\u0000\u0000...</td>\n    </tr>\n    <tr>\n      <th>12984</th>\n      <td>LEI-001-18968</td>\n      <td>NaN</td>\n      <td>NaN</td>\n      <td>NaN</td>\n      <td>NaN</td>\n      <td>2006</td>\n      <td>Hoog</td>\n      <td>2018</td>\n      <td>Hasselterweg</td>\n      <td>17287</td>\n      <td>17294</td>\n      <td>-0.85</td>\n      <td>-0.85</td>\n      <td>500.0</td>\n      <td>Beton</td>\n      <td>91.76</td>\n      <td>91.756008</td>\n      <td>0.0</td>\n      <td>Rond</td>\n      <td>\u0000\u0000\u0000\u0000\u0000\u0000\u0000\u0000\u0000\u0000\u0000\u0000\u0000\u0000\u0000\u0000\u0000\u0000\u0000\u0000\u0000\u0000\u0000\u0000\u0000\u0000\u0000\u0000\u0000\u0000\u0000\u0000\u0000\u0000\u0000\u0000\u0000\u0000\u0000\u0000\u0000\u0000\u0000\u0000\u0000\u0000...</td>\n    </tr>\n    <tr>\n      <th>12985</th>\n      <td>LEI-001-18216</td>\n      <td>NaN</td>\n      <td>NaN</td>\n      <td>1</td>\n      <td>1</td>\n      <td>1999</td>\n      <td>Hoog</td>\n      <td>2018</td>\n      <td>Milligerlaan</td>\n      <td>14407</td>\n      <td>14426</td>\n      <td>-2.32</td>\n      <td>-2.27</td>\n      <td>250.0</td>\n      <td>Beton</td>\n      <td>47.34</td>\n      <td>47.335442</td>\n      <td>0.0</td>\n      <td>Rond</td>\n      <td>\u0000\u0000\u0000\u0000\u0000\u0000\u0000\u0000\u0000\u0000\u0000\u0000\u0000\u0000\u0000\u0000\u0000\u0000\u0000\u0000\u0000\u0000\u0000\u0000\u0000\u0000\u0000\u0000\u0000\u0000\u0000\u0000\u0000\u0000\u0000\u0000\u0000\u0000\u0000\u0000\u0000\u0000\u0000\u0000\u0000\u0000...</td>\n    </tr>\n    <tr>\n      <th>12986</th>\n      <td>LEI-001-01434</td>\n      <td>NaN</td>\n      <td>NaN</td>\n      <td>1</td>\n      <td>1</td>\n      <td>1987</td>\n      <td>Hoog</td>\n      <td>2016</td>\n      <td>Lichterweg</td>\n      <td>5481</td>\n      <td>5482</td>\n      <td>-0.39</td>\n      <td>-0.40</td>\n      <td>500.0</td>\n      <td>Beton</td>\n      <td>36.62</td>\n      <td>36.621192</td>\n      <td>0.0</td>\n      <td>Rond</td>\n      <td>\u0000\u0000\u0000\u0000\u0000\u0000\u0000\u0000\u0000\u0000\u0000\u0000\u0000\u0000\u0000\u0000\u0000\u0000\u0000\u0000\u0000\u0000\u0000\u0000\u0000\u0000\u0000\u0000\u0000\u0000\u0000\u0000\u0000\u0000\u0000\u0000\u0000\u0000\u0000\u0000\u0000\u0000\u0000\u0000\u0000\u0000...</td>\n    </tr>\n    <tr>\n      <th>12987</th>\n      <td>LEI-001-11665</td>\n      <td>NaN</td>\n      <td>NaN</td>\n      <td>NaN</td>\n      <td>NaN</td>\n      <td>1966</td>\n      <td>Hoog</td>\n      <td>2020</td>\n      <td>Marsweg</td>\n      <td>9162</td>\n      <td>9161</td>\n      <td>-0.69</td>\n      <td>-0.77</td>\n      <td>300.0</td>\n      <td>Beton</td>\n      <td>59.56</td>\n      <td>59.558000</td>\n      <td>0.0</td>\n      <td>Rond</td>\n      <td>\u0000\u0000\u0000\u0000\u0000\u0000\u0000\u0000\u0000\u0000\u0000\u0000\u0000\u0000\u0000\u0000\u0000\u0000\u0000\u0000\u0000\u0000\u0000\u0000\u0000\u0000\u0000\u0000\u0000\u0000\u0000\u0000\u0000\u0000\u0000\u0000\u0000\u0000\u0000\u0000\u0000\u0000\u0000\u0000\u0000\u0000...</td>\n    </tr>\n  </tbody>\n</table>\n<p>12988 rows × 20 columns</p>\n</div>"
     },
     "execution_count": 5,
     "metadata": {},
     "output_type": "execute_result"
    }
   ],
   "source": [
    "df_levensduur"
   ]
  },
  {
   "cell_type": "code",
   "execution_count": 6,
   "id": "1309b2eb",
   "metadata": {
    "pycharm": {
     "name": "#%%\n"
    }
   },
   "outputs": [
    {
     "data": {
      "text/plain": "       OBJECTID AMBITIENIV  BEGINDATUM  EINDDATUM     BEHEEROBJE  BOB_BEGINK  \\\n0             1      basis  1967-01-01        NaN  LEI-001-00054       -0.65   \n1             2      basis  1935-01-02        NaN  LEI-001-00056       -0.14   \n2             3      basis  1935-01-02        NaN  LEI-001-00057       -0.08   \n3             4      basis  1950-01-01        NaN  LEI-001-00058       -0.32   \n4             5      basis  1901-01-01        NaN  LEI-001-00059       -0.21   \n...         ...        ...         ...        ...            ...         ...   \n21161     21162      basis  2018-10-24        NaN  LEI-001-11762       -0.96   \n21162     21163      basis  2020-06-01        NaN  LEI-001-11373       -3.22   \n21163     21164      basis  2020-06-01        NaN  LEI-001-13156       -0.13   \n21164     21165      basis  2020-06-01        NaN  LEI-001-15345       -1.37   \n21165     21166      basis  2018-01-01        NaN  LEI-001-18673        1.57   \n\n       BOB_EINDKN  BREEDTE_DI BUURT EXTRA_INFO  ...           TOESTAND_1  \\\n0           -0.72       400.0   NaN        131  ...                  NaN   \n1           -0.18       500.0   NaN        113  ...         Waarschuwing   \n2           -0.10       500.0   NaN        113  ...                  NaN   \n3           -0.33       300.0   NaN        121  ...                  NaN   \n4           -0.25       300.0   NaN        121  ...                  NaN   \n...           ...         ...   ...        ...  ...                  ...   \n21161       -0.96      1000.0   NaN        113  ...  Geen bijzonderheden   \n21162       -3.28       500.0   NaN        151  ...  Geen bijzonderheden   \n21163       -0.13       300.0   NaN        141  ...         Waarschuwing   \n21164       -1.42       400.0   NaN        141  ...         Waarschuwing   \n21165        1.80       160.0   NaN        NaN  ...                  NaN   \n\n                TOESTAND_2 VERBINDING VRIJE_BREE WANDRUWHEI WEGFUNCTIE  \\\n0                      NaN        NaN        0.0        0.0        NaN   \n1      Geen bijzonderheden        NaN       22.0        0.0        NaN   \n2                      NaN        NaN       22.0        0.0        NaN   \n3                      NaN        NaN        0.0        0.0        NaN   \n4                      NaN        NaN        0.0        0.0        NaN   \n...                    ...        ...        ...        ...        ...   \n21161  Geen bijzonderheden        NaN       22.0        0.0        NaN   \n21162            Ingrijpen        NaN        0.0        0.0        NaN   \n21163            Ingrijpen        NaN        0.0        0.0        NaN   \n21164  Geen bijzonderheden        NaN        0.0        0.0        NaN   \n21165                  NaN        NaN        0.0        0.0        NaN   \n\n       WEGVERHARD Shape_Leng  STRENGKOPP    STATUS  \n0             NaN  31.888677           1  Initieel  \n1             NaN  40.956329           2  Initieel  \n2             NaN  41.759197           3  Initieel  \n3             NaN  13.757721           4  Initieel  \n4             NaN  56.891287           5  Initieel  \n...           ...        ...         ...       ...  \n21161         NaN  12.913319           0     Nieuw  \n21162         NaN   7.433391           0     Nieuw  \n21163         NaN  44.990311           0     Nieuw  \n21164         NaN  59.827312           0     Nieuw  \n21165         NaN  60.829684           0     Nieuw  \n\n[21166 rows x 59 columns]",
      "text/html": "<div>\n<style scoped>\n    .dataframe tbody tr th:only-of-type {\n        vertical-align: middle;\n    }\n\n    .dataframe tbody tr th {\n        vertical-align: top;\n    }\n\n    .dataframe thead th {\n        text-align: right;\n    }\n</style>\n<table border=\"1\" class=\"dataframe\">\n  <thead>\n    <tr style=\"text-align: right;\">\n      <th></th>\n      <th>OBJECTID</th>\n      <th>AMBITIENIV</th>\n      <th>BEGINDATUM</th>\n      <th>EINDDATUM</th>\n      <th>BEHEEROBJE</th>\n      <th>BOB_BEGINK</th>\n      <th>BOB_EINDKN</th>\n      <th>BREEDTE_DI</th>\n      <th>BUURT</th>\n      <th>EXTRA_INFO</th>\n      <th>...</th>\n      <th>TOESTAND_1</th>\n      <th>TOESTAND_2</th>\n      <th>VERBINDING</th>\n      <th>VRIJE_BREE</th>\n      <th>WANDRUWHEI</th>\n      <th>WEGFUNCTIE</th>\n      <th>WEGVERHARD</th>\n      <th>Shape_Leng</th>\n      <th>STRENGKOPP</th>\n      <th>STATUS</th>\n    </tr>\n  </thead>\n  <tbody>\n    <tr>\n      <th>0</th>\n      <td>1</td>\n      <td>basis</td>\n      <td>1967-01-01</td>\n      <td>NaN</td>\n      <td>LEI-001-00054</td>\n      <td>-0.65</td>\n      <td>-0.72</td>\n      <td>400.0</td>\n      <td>NaN</td>\n      <td>131</td>\n      <td>...</td>\n      <td>NaN</td>\n      <td>NaN</td>\n      <td>NaN</td>\n      <td>0.0</td>\n      <td>0.0</td>\n      <td>NaN</td>\n      <td>NaN</td>\n      <td>31.888677</td>\n      <td>1</td>\n      <td>Initieel</td>\n    </tr>\n    <tr>\n      <th>1</th>\n      <td>2</td>\n      <td>basis</td>\n      <td>1935-01-02</td>\n      <td>NaN</td>\n      <td>LEI-001-00056</td>\n      <td>-0.14</td>\n      <td>-0.18</td>\n      <td>500.0</td>\n      <td>NaN</td>\n      <td>113</td>\n      <td>...</td>\n      <td>Waarschuwing</td>\n      <td>Geen bijzonderheden</td>\n      <td>NaN</td>\n      <td>22.0</td>\n      <td>0.0</td>\n      <td>NaN</td>\n      <td>NaN</td>\n      <td>40.956329</td>\n      <td>2</td>\n      <td>Initieel</td>\n    </tr>\n    <tr>\n      <th>2</th>\n      <td>3</td>\n      <td>basis</td>\n      <td>1935-01-02</td>\n      <td>NaN</td>\n      <td>LEI-001-00057</td>\n      <td>-0.08</td>\n      <td>-0.10</td>\n      <td>500.0</td>\n      <td>NaN</td>\n      <td>113</td>\n      <td>...</td>\n      <td>NaN</td>\n      <td>NaN</td>\n      <td>NaN</td>\n      <td>22.0</td>\n      <td>0.0</td>\n      <td>NaN</td>\n      <td>NaN</td>\n      <td>41.759197</td>\n      <td>3</td>\n      <td>Initieel</td>\n    </tr>\n    <tr>\n      <th>3</th>\n      <td>4</td>\n      <td>basis</td>\n      <td>1950-01-01</td>\n      <td>NaN</td>\n      <td>LEI-001-00058</td>\n      <td>-0.32</td>\n      <td>-0.33</td>\n      <td>300.0</td>\n      <td>NaN</td>\n      <td>121</td>\n      <td>...</td>\n      <td>NaN</td>\n      <td>NaN</td>\n      <td>NaN</td>\n      <td>0.0</td>\n      <td>0.0</td>\n      <td>NaN</td>\n      <td>NaN</td>\n      <td>13.757721</td>\n      <td>4</td>\n      <td>Initieel</td>\n    </tr>\n    <tr>\n      <th>4</th>\n      <td>5</td>\n      <td>basis</td>\n      <td>1901-01-01</td>\n      <td>NaN</td>\n      <td>LEI-001-00059</td>\n      <td>-0.21</td>\n      <td>-0.25</td>\n      <td>300.0</td>\n      <td>NaN</td>\n      <td>121</td>\n      <td>...</td>\n      <td>NaN</td>\n      <td>NaN</td>\n      <td>NaN</td>\n      <td>0.0</td>\n      <td>0.0</td>\n      <td>NaN</td>\n      <td>NaN</td>\n      <td>56.891287</td>\n      <td>5</td>\n      <td>Initieel</td>\n    </tr>\n    <tr>\n      <th>...</th>\n      <td>...</td>\n      <td>...</td>\n      <td>...</td>\n      <td>...</td>\n      <td>...</td>\n      <td>...</td>\n      <td>...</td>\n      <td>...</td>\n      <td>...</td>\n      <td>...</td>\n      <td>...</td>\n      <td>...</td>\n      <td>...</td>\n      <td>...</td>\n      <td>...</td>\n      <td>...</td>\n      <td>...</td>\n      <td>...</td>\n      <td>...</td>\n      <td>...</td>\n      <td>...</td>\n    </tr>\n    <tr>\n      <th>21161</th>\n      <td>21162</td>\n      <td>basis</td>\n      <td>2018-10-24</td>\n      <td>NaN</td>\n      <td>LEI-001-11762</td>\n      <td>-0.96</td>\n      <td>-0.96</td>\n      <td>1000.0</td>\n      <td>NaN</td>\n      <td>113</td>\n      <td>...</td>\n      <td>Geen bijzonderheden</td>\n      <td>Geen bijzonderheden</td>\n      <td>NaN</td>\n      <td>22.0</td>\n      <td>0.0</td>\n      <td>NaN</td>\n      <td>NaN</td>\n      <td>12.913319</td>\n      <td>0</td>\n      <td>Nieuw</td>\n    </tr>\n    <tr>\n      <th>21162</th>\n      <td>21163</td>\n      <td>basis</td>\n      <td>2020-06-01</td>\n      <td>NaN</td>\n      <td>LEI-001-11373</td>\n      <td>-3.22</td>\n      <td>-3.28</td>\n      <td>500.0</td>\n      <td>NaN</td>\n      <td>151</td>\n      <td>...</td>\n      <td>Geen bijzonderheden</td>\n      <td>Ingrijpen</td>\n      <td>NaN</td>\n      <td>0.0</td>\n      <td>0.0</td>\n      <td>NaN</td>\n      <td>NaN</td>\n      <td>7.433391</td>\n      <td>0</td>\n      <td>Nieuw</td>\n    </tr>\n    <tr>\n      <th>21163</th>\n      <td>21164</td>\n      <td>basis</td>\n      <td>2020-06-01</td>\n      <td>NaN</td>\n      <td>LEI-001-13156</td>\n      <td>-0.13</td>\n      <td>-0.13</td>\n      <td>300.0</td>\n      <td>NaN</td>\n      <td>141</td>\n      <td>...</td>\n      <td>Waarschuwing</td>\n      <td>Ingrijpen</td>\n      <td>NaN</td>\n      <td>0.0</td>\n      <td>0.0</td>\n      <td>NaN</td>\n      <td>NaN</td>\n      <td>44.990311</td>\n      <td>0</td>\n      <td>Nieuw</td>\n    </tr>\n    <tr>\n      <th>21164</th>\n      <td>21165</td>\n      <td>basis</td>\n      <td>2020-06-01</td>\n      <td>NaN</td>\n      <td>LEI-001-15345</td>\n      <td>-1.37</td>\n      <td>-1.42</td>\n      <td>400.0</td>\n      <td>NaN</td>\n      <td>141</td>\n      <td>...</td>\n      <td>Waarschuwing</td>\n      <td>Geen bijzonderheden</td>\n      <td>NaN</td>\n      <td>0.0</td>\n      <td>0.0</td>\n      <td>NaN</td>\n      <td>NaN</td>\n      <td>59.827312</td>\n      <td>0</td>\n      <td>Nieuw</td>\n    </tr>\n    <tr>\n      <th>21165</th>\n      <td>21166</td>\n      <td>basis</td>\n      <td>2018-01-01</td>\n      <td>NaN</td>\n      <td>LEI-001-18673</td>\n      <td>1.57</td>\n      <td>1.80</td>\n      <td>160.0</td>\n      <td>NaN</td>\n      <td>NaN</td>\n      <td>...</td>\n      <td>NaN</td>\n      <td>NaN</td>\n      <td>NaN</td>\n      <td>0.0</td>\n      <td>0.0</td>\n      <td>NaN</td>\n      <td>NaN</td>\n      <td>60.829684</td>\n      <td>0</td>\n      <td>Nieuw</td>\n    </tr>\n  </tbody>\n</table>\n<p>21166 rows × 59 columns</p>\n</div>"
     },
     "execution_count": 6,
     "metadata": {},
     "output_type": "execute_result"
    }
   ],
   "source": [
    "df_riolering"
   ]
  },
  {
   "cell_type": "code",
   "execution_count": 7,
   "id": "f08d8645",
   "metadata": {
    "pycharm": {
     "name": "#%%\n"
    }
   },
   "outputs": [
    {
     "data": {
      "text/plain": "array(['basis'], dtype=object)"
     },
     "execution_count": 7,
     "metadata": {},
     "output_type": "execute_result"
    }
   ],
   "source": [
    "# kolom AMBITIENIV bevat maar 1 waarde: 'basis'\n",
    "pd.unique(df_riolering['AMBITIENIV'])"
   ]
  },
  {
   "cell_type": "code",
   "execution_count": 8,
   "id": "78db5089",
   "metadata": {
    "pycharm": {
     "name": "#%%\n"
    }
   },
   "outputs": [
    {
     "data": {
      "text/plain": "      OBJECTID      VANNAAR     INSPDAT         TYPEINS INSPECTEUR  \\\n0        18557  12560-12561  2017-06-12  Voor reiniging   J. Borst   \n1        18561  12568-12562  2017-06-12  Voor reiniging   J. Borst   \n2        18564  12549-12550  2017-06-14  Voor reiniging   J. Borst   \n3        18565  12550-12549  2017-06-14  Voor reiniging   J. Borst   \n4        18567  10582-10583  2017-09-15  Voor reiniging       Hugo   \n...        ...          ...         ...             ...        ...   \n5380     40943  20445-20446  2020-04-06  Voor reiniging   J. Borst   \n5381     40944  20446-20445  2020-04-06  Voor reiniging   J. Borst   \n5382     40945  20446-20447  2020-04-06  Voor reiniging   J. Borst   \n5383     40947  20446-20448  2020-04-06  Voor reiniging   J. Borst   \n5384     40964  21358-21357  2020-03-11  Voor reiniging   J. Borst   \n\n                                                    OPM  BAB  \\\n0                                    bocht net na put,,  NaN   \n1                           voertuig op put,Geen Actie,  NaN   \n2                           zak in leiding achter put,,  NaN   \n3                           zak in leiding achter put,,  NaN   \n4     wortels, complexe massa, 10-25%,Frezen,Gedetai...  NaN   \n...                                                 ...  ...   \n5380  put vol zand. leiding niet zichtbaar foto tele...  NaN   \n5381  put vol zand. leiding niet zichtbaar foto tele...  NaN   \n5382  put vol zand. leiding niet zichtbaar foto tele...  NaN   \n5383  put vol zand. leiding niet zichtbaar foto tele...  NaN   \n5384                                   actie: Reiniging  NaN   \n\n                                      BAF                    BBC  \\\n0     BAF3 - toeslagstoffen die uitsteken         BBC1 - h <= 5%   \n1                                     NaN                    NaN   \n2                                     NaN         BBC1 - h <= 5%   \n3                                     NaN         BBC1 - h <= 5%   \n4     BAF3 - toeslagstoffen die uitsteken         BBC1 - h <= 5%   \n...                                   ...                    ...   \n5380                                  NaN                    NaN   \n5381                                  NaN                    NaN   \n5382                                  NaN                    NaN   \n5383                                  NaN                    NaN   \n5384                                  NaN  BBC3 - 10% < h <= 25%   \n\n                        BDD           FOTONAAM  FOTOLINK     BEHEEROBJE  \\\n0           BDD1 - h <= 10%    12560-12561.jpg       NaN  LEI-001-00061   \n1                       NaN    12568-12562.jpg       NaN  LEI-001-00063   \n2     BDD2 - 10% < h <= 25%    12549-12550.jpg       NaN  LEI-001-00065   \n3     BDD2 - 10% < h <= 25%    12550-12549.jpg       NaN  LEI-001-00065   \n4           BDD1 - h <= 10%  10582-10583-3.jpg       NaN  LEI-001-00008   \n...                     ...                ...       ...            ...   \n5380                    NaN    20445-20446.jpg       NaN            NaN   \n5381                    NaN    20446-20445.jpg       NaN            NaN   \n5382                    NaN    20446-20447.jpg       NaN            NaN   \n5383                    NaN    20446-20448.jpg       NaN            NaN   \n5384  BDD2 - 10% < h <= 25%    21358-21357.jpg       NaN            NaN   \n\n      REL_OBJECT  \n0              7  \n1              9  \n2             11  \n3             11  \n4             22  \n...          ...  \n5380       20605  \n5381       20605  \n5382       20606  \n5383       20607  \n5384       19846  \n\n[5385 rows x 14 columns]",
      "text/html": "<div>\n<style scoped>\n    .dataframe tbody tr th:only-of-type {\n        vertical-align: middle;\n    }\n\n    .dataframe tbody tr th {\n        vertical-align: top;\n    }\n\n    .dataframe thead th {\n        text-align: right;\n    }\n</style>\n<table border=\"1\" class=\"dataframe\">\n  <thead>\n    <tr style=\"text-align: right;\">\n      <th></th>\n      <th>OBJECTID</th>\n      <th>VANNAAR</th>\n      <th>INSPDAT</th>\n      <th>TYPEINS</th>\n      <th>INSPECTEUR</th>\n      <th>OPM</th>\n      <th>BAB</th>\n      <th>BAF</th>\n      <th>BBC</th>\n      <th>BDD</th>\n      <th>FOTONAAM</th>\n      <th>FOTOLINK</th>\n      <th>BEHEEROBJE</th>\n      <th>REL_OBJECT</th>\n    </tr>\n  </thead>\n  <tbody>\n    <tr>\n      <th>0</th>\n      <td>18557</td>\n      <td>12560-12561</td>\n      <td>2017-06-12</td>\n      <td>Voor reiniging</td>\n      <td>J. Borst</td>\n      <td>bocht net na put,,</td>\n      <td>NaN</td>\n      <td>BAF3 - toeslagstoffen die uitsteken</td>\n      <td>BBC1 - h &lt;= 5%</td>\n      <td>BDD1 - h &lt;= 10%</td>\n      <td>12560-12561.jpg</td>\n      <td>NaN</td>\n      <td>LEI-001-00061</td>\n      <td>7</td>\n    </tr>\n    <tr>\n      <th>1</th>\n      <td>18561</td>\n      <td>12568-12562</td>\n      <td>2017-06-12</td>\n      <td>Voor reiniging</td>\n      <td>J. Borst</td>\n      <td>voertuig op put,Geen Actie,</td>\n      <td>NaN</td>\n      <td>NaN</td>\n      <td>NaN</td>\n      <td>NaN</td>\n      <td>12568-12562.jpg</td>\n      <td>NaN</td>\n      <td>LEI-001-00063</td>\n      <td>9</td>\n    </tr>\n    <tr>\n      <th>2</th>\n      <td>18564</td>\n      <td>12549-12550</td>\n      <td>2017-06-14</td>\n      <td>Voor reiniging</td>\n      <td>J. Borst</td>\n      <td>zak in leiding achter put,,</td>\n      <td>NaN</td>\n      <td>NaN</td>\n      <td>BBC1 - h &lt;= 5%</td>\n      <td>BDD2 - 10% &lt; h &lt;= 25%</td>\n      <td>12549-12550.jpg</td>\n      <td>NaN</td>\n      <td>LEI-001-00065</td>\n      <td>11</td>\n    </tr>\n    <tr>\n      <th>3</th>\n      <td>18565</td>\n      <td>12550-12549</td>\n      <td>2017-06-14</td>\n      <td>Voor reiniging</td>\n      <td>J. Borst</td>\n      <td>zak in leiding achter put,,</td>\n      <td>NaN</td>\n      <td>NaN</td>\n      <td>BBC1 - h &lt;= 5%</td>\n      <td>BDD2 - 10% &lt; h &lt;= 25%</td>\n      <td>12550-12549.jpg</td>\n      <td>NaN</td>\n      <td>LEI-001-00065</td>\n      <td>11</td>\n    </tr>\n    <tr>\n      <th>4</th>\n      <td>18567</td>\n      <td>10582-10583</td>\n      <td>2017-09-15</td>\n      <td>Voor reiniging</td>\n      <td>Hugo</td>\n      <td>wortels, complexe massa, 10-25%,Frezen,Gedetai...</td>\n      <td>NaN</td>\n      <td>BAF3 - toeslagstoffen die uitsteken</td>\n      <td>BBC1 - h &lt;= 5%</td>\n      <td>BDD1 - h &lt;= 10%</td>\n      <td>10582-10583-3.jpg</td>\n      <td>NaN</td>\n      <td>LEI-001-00008</td>\n      <td>22</td>\n    </tr>\n    <tr>\n      <th>...</th>\n      <td>...</td>\n      <td>...</td>\n      <td>...</td>\n      <td>...</td>\n      <td>...</td>\n      <td>...</td>\n      <td>...</td>\n      <td>...</td>\n      <td>...</td>\n      <td>...</td>\n      <td>...</td>\n      <td>...</td>\n      <td>...</td>\n      <td>...</td>\n    </tr>\n    <tr>\n      <th>5380</th>\n      <td>40943</td>\n      <td>20445-20446</td>\n      <td>2020-04-06</td>\n      <td>Voor reiniging</td>\n      <td>J. Borst</td>\n      <td>put vol zand. leiding niet zichtbaar foto tele...</td>\n      <td>NaN</td>\n      <td>NaN</td>\n      <td>NaN</td>\n      <td>NaN</td>\n      <td>20445-20446.jpg</td>\n      <td>NaN</td>\n      <td>NaN</td>\n      <td>20605</td>\n    </tr>\n    <tr>\n      <th>5381</th>\n      <td>40944</td>\n      <td>20446-20445</td>\n      <td>2020-04-06</td>\n      <td>Voor reiniging</td>\n      <td>J. Borst</td>\n      <td>put vol zand. leiding niet zichtbaar foto tele...</td>\n      <td>NaN</td>\n      <td>NaN</td>\n      <td>NaN</td>\n      <td>NaN</td>\n      <td>20446-20445.jpg</td>\n      <td>NaN</td>\n      <td>NaN</td>\n      <td>20605</td>\n    </tr>\n    <tr>\n      <th>5382</th>\n      <td>40945</td>\n      <td>20446-20447</td>\n      <td>2020-04-06</td>\n      <td>Voor reiniging</td>\n      <td>J. Borst</td>\n      <td>put vol zand. leiding niet zichtbaar foto tele...</td>\n      <td>NaN</td>\n      <td>NaN</td>\n      <td>NaN</td>\n      <td>NaN</td>\n      <td>20446-20447.jpg</td>\n      <td>NaN</td>\n      <td>NaN</td>\n      <td>20606</td>\n    </tr>\n    <tr>\n      <th>5383</th>\n      <td>40947</td>\n      <td>20446-20448</td>\n      <td>2020-04-06</td>\n      <td>Voor reiniging</td>\n      <td>J. Borst</td>\n      <td>put vol zand. leiding niet zichtbaar foto tele...</td>\n      <td>NaN</td>\n      <td>NaN</td>\n      <td>NaN</td>\n      <td>NaN</td>\n      <td>20446-20448.jpg</td>\n      <td>NaN</td>\n      <td>NaN</td>\n      <td>20607</td>\n    </tr>\n    <tr>\n      <th>5384</th>\n      <td>40964</td>\n      <td>21358-21357</td>\n      <td>2020-03-11</td>\n      <td>Voor reiniging</td>\n      <td>J. Borst</td>\n      <td>actie: Reiniging</td>\n      <td>NaN</td>\n      <td>NaN</td>\n      <td>BBC3 - 10% &lt; h &lt;= 25%</td>\n      <td>BDD2 - 10% &lt; h &lt;= 25%</td>\n      <td>21358-21357.jpg</td>\n      <td>NaN</td>\n      <td>NaN</td>\n      <td>19846</td>\n    </tr>\n  </tbody>\n</table>\n<p>5385 rows × 14 columns</p>\n</div>"
     },
     "execution_count": 8,
     "metadata": {},
     "output_type": "execute_result"
    }
   ],
   "source": [
    "df_schades"
   ]
  },
  {
   "cell_type": "code",
   "execution_count": 2,
   "id": "e7b1a8a1",
   "metadata": {
    "pycharm": {
     "name": "#%%\n"
    }
   },
   "outputs": [
    {
     "ename": "NameError",
     "evalue": "name 'gdf_putten' is not defined",
     "output_type": "error",
     "traceback": [
      "\u001B[0;31m---------------------------------------------------------------------------\u001B[0m",
      "\u001B[0;31mNameError\u001B[0m                                 Traceback (most recent call last)",
      "\u001B[0;32m/var/folders/16/j3z5679n39g0hzvr06qnb5jh0000gn/T/ipykernel_32168/2531427912.py\u001B[0m in \u001B[0;36m<module>\u001B[0;34m\u001B[0m\n\u001B[0;32m----> 1\u001B[0;31m \u001B[0mgdf_putten\u001B[0m\u001B[0;34m\u001B[0m\u001B[0;34m\u001B[0m\u001B[0m\n\u001B[0m",
      "\u001B[0;31mNameError\u001B[0m: name 'gdf_putten' is not defined"
     ]
    }
   ],
   "source": [
    "df_putten_toekomst"
   ]
  },
  {
   "cell_type": "code",
   "execution_count": 10,
   "id": "51d30550",
   "metadata": {
    "pycharm": {
     "name": "#%%\n"
    }
   },
   "outputs": [
    {
     "ename": "DriverError",
     "evalue": "data/riolering april 2020/Strengen.shp: No such file or directory",
     "output_type": "error",
     "traceback": [
      "\u001B[0;31m---------------------------------------------------------------------------\u001B[0m",
      "\u001B[0;31mCPLE_OpenFailedError\u001B[0m                      Traceback (most recent call last)",
      "\u001B[0;32mfiona/_shim.pyx\u001B[0m in \u001B[0;36mfiona._shim.gdal_open_vector\u001B[0;34m()\u001B[0m\n",
      "\u001B[0;32mfiona/_err.pyx\u001B[0m in \u001B[0;36mfiona._err.exc_wrap_pointer\u001B[0;34m()\u001B[0m\n",
      "\u001B[0;31mCPLE_OpenFailedError\u001B[0m: data/riolering april 2020/Strengen.shp: No such file or directory",
      "\nDuring handling of the above exception, another exception occurred:\n",
      "\u001B[0;31mDriverError\u001B[0m                               Traceback (most recent call last)",
      "\u001B[0;32m/var/folders/16/j3z5679n39g0hzvr06qnb5jh0000gn/T/ipykernel_13753/1985640356.py\u001B[0m in \u001B[0;36m<module>\u001B[0;34m\u001B[0m\n\u001B[0;32m----> 1\u001B[0;31m \u001B[0mdf1\u001B[0m \u001B[0;34m=\u001B[0m \u001B[0mgeopandas\u001B[0m\u001B[0;34m.\u001B[0m\u001B[0mread_file\u001B[0m\u001B[0;34m(\u001B[0m\u001B[0;34mr'data/riolering april 2020/Strengen.shp'\u001B[0m\u001B[0;34m)\u001B[0m\u001B[0;34m\u001B[0m\u001B[0;34m\u001B[0m\u001B[0m\n\u001B[0m\u001B[1;32m      2\u001B[0m \u001B[0mdf1\u001B[0m\u001B[0;34m[\u001B[0m\u001B[0;34m'geometry'\u001B[0m\u001B[0;34m]\u001B[0m\u001B[0;34m\u001B[0m\u001B[0;34m\u001B[0m\u001B[0m\n",
      "\u001B[0;32m~/opt/anaconda3/lib/python3.9/site-packages/geopandas/io/file.py\u001B[0m in \u001B[0;36m_read_file\u001B[0;34m(filename, bbox, mask, rows, **kwargs)\u001B[0m\n\u001B[1;32m    199\u001B[0m \u001B[0;34m\u001B[0m\u001B[0m\n\u001B[1;32m    200\u001B[0m     \u001B[0;32mwith\u001B[0m \u001B[0mfiona_env\u001B[0m\u001B[0;34m(\u001B[0m\u001B[0;34m)\u001B[0m\u001B[0;34m:\u001B[0m\u001B[0;34m\u001B[0m\u001B[0;34m\u001B[0m\u001B[0m\n\u001B[0;32m--> 201\u001B[0;31m         \u001B[0;32mwith\u001B[0m \u001B[0mreader\u001B[0m\u001B[0;34m(\u001B[0m\u001B[0mpath_or_bytes\u001B[0m\u001B[0;34m,\u001B[0m \u001B[0;34m**\u001B[0m\u001B[0mkwargs\u001B[0m\u001B[0;34m)\u001B[0m \u001B[0;32mas\u001B[0m \u001B[0mfeatures\u001B[0m\u001B[0;34m:\u001B[0m\u001B[0;34m\u001B[0m\u001B[0;34m\u001B[0m\u001B[0m\n\u001B[0m\u001B[1;32m    202\u001B[0m \u001B[0;34m\u001B[0m\u001B[0m\n\u001B[1;32m    203\u001B[0m             \u001B[0;31m# In a future Fiona release the crs attribute of features will\u001B[0m\u001B[0;34m\u001B[0m\u001B[0;34m\u001B[0m\u001B[0m\n",
      "\u001B[0;32m~/opt/anaconda3/lib/python3.9/site-packages/fiona/env.py\u001B[0m in \u001B[0;36mwrapper\u001B[0;34m(*args, **kwargs)\u001B[0m\n\u001B[1;32m    406\u001B[0m     \u001B[0;32mdef\u001B[0m \u001B[0mwrapper\u001B[0m\u001B[0;34m(\u001B[0m\u001B[0;34m*\u001B[0m\u001B[0margs\u001B[0m\u001B[0;34m,\u001B[0m \u001B[0;34m**\u001B[0m\u001B[0mkwargs\u001B[0m\u001B[0;34m)\u001B[0m\u001B[0;34m:\u001B[0m\u001B[0;34m\u001B[0m\u001B[0;34m\u001B[0m\u001B[0m\n\u001B[1;32m    407\u001B[0m         \u001B[0;32mif\u001B[0m \u001B[0mlocal\u001B[0m\u001B[0;34m.\u001B[0m\u001B[0m_env\u001B[0m\u001B[0;34m:\u001B[0m\u001B[0;34m\u001B[0m\u001B[0;34m\u001B[0m\u001B[0m\n\u001B[0;32m--> 408\u001B[0;31m             \u001B[0;32mreturn\u001B[0m \u001B[0mf\u001B[0m\u001B[0;34m(\u001B[0m\u001B[0;34m*\u001B[0m\u001B[0margs\u001B[0m\u001B[0;34m,\u001B[0m \u001B[0;34m**\u001B[0m\u001B[0mkwargs\u001B[0m\u001B[0;34m)\u001B[0m\u001B[0;34m\u001B[0m\u001B[0;34m\u001B[0m\u001B[0m\n\u001B[0m\u001B[1;32m    409\u001B[0m         \u001B[0;32melse\u001B[0m\u001B[0;34m:\u001B[0m\u001B[0;34m\u001B[0m\u001B[0;34m\u001B[0m\u001B[0m\n\u001B[1;32m    410\u001B[0m             \u001B[0;32mif\u001B[0m \u001B[0misinstance\u001B[0m\u001B[0;34m(\u001B[0m\u001B[0margs\u001B[0m\u001B[0;34m[\u001B[0m\u001B[0;36m0\u001B[0m\u001B[0;34m]\u001B[0m\u001B[0;34m,\u001B[0m \u001B[0mstr\u001B[0m\u001B[0;34m)\u001B[0m\u001B[0;34m:\u001B[0m\u001B[0;34m\u001B[0m\u001B[0;34m\u001B[0m\u001B[0m\n",
      "\u001B[0;32m~/opt/anaconda3/lib/python3.9/site-packages/fiona/__init__.py\u001B[0m in \u001B[0;36mopen\u001B[0;34m(fp, mode, driver, schema, crs, encoding, layer, vfs, enabled_drivers, crs_wkt, **kwargs)\u001B[0m\n\u001B[1;32m    262\u001B[0m \u001B[0;34m\u001B[0m\u001B[0m\n\u001B[1;32m    263\u001B[0m         \u001B[0;32mif\u001B[0m \u001B[0mmode\u001B[0m \u001B[0;32min\u001B[0m \u001B[0;34m(\u001B[0m\u001B[0;34m'a'\u001B[0m\u001B[0;34m,\u001B[0m \u001B[0;34m'r'\u001B[0m\u001B[0;34m)\u001B[0m\u001B[0;34m:\u001B[0m\u001B[0;34m\u001B[0m\u001B[0;34m\u001B[0m\u001B[0m\n\u001B[0;32m--> 264\u001B[0;31m             c = Collection(path, mode, driver=driver, encoding=encoding,\n\u001B[0m\u001B[1;32m    265\u001B[0m                            layer=layer, enabled_drivers=enabled_drivers, **kwargs)\n\u001B[1;32m    266\u001B[0m         \u001B[0;32melif\u001B[0m \u001B[0mmode\u001B[0m \u001B[0;34m==\u001B[0m \u001B[0;34m'w'\u001B[0m\u001B[0;34m:\u001B[0m\u001B[0;34m\u001B[0m\u001B[0;34m\u001B[0m\u001B[0m\n",
      "\u001B[0;32m~/opt/anaconda3/lib/python3.9/site-packages/fiona/collection.py\u001B[0m in \u001B[0;36m__init__\u001B[0;34m(self, path, mode, driver, schema, crs, encoding, layer, vsi, archive, enabled_drivers, crs_wkt, ignore_fields, ignore_geometry, **kwargs)\u001B[0m\n\u001B[1;32m    160\u001B[0m             \u001B[0;32mif\u001B[0m \u001B[0mself\u001B[0m\u001B[0;34m.\u001B[0m\u001B[0mmode\u001B[0m \u001B[0;34m==\u001B[0m \u001B[0;34m'r'\u001B[0m\u001B[0;34m:\u001B[0m\u001B[0;34m\u001B[0m\u001B[0;34m\u001B[0m\u001B[0m\n\u001B[1;32m    161\u001B[0m                 \u001B[0mself\u001B[0m\u001B[0;34m.\u001B[0m\u001B[0msession\u001B[0m \u001B[0;34m=\u001B[0m \u001B[0mSession\u001B[0m\u001B[0;34m(\u001B[0m\u001B[0;34m)\u001B[0m\u001B[0;34m\u001B[0m\u001B[0;34m\u001B[0m\u001B[0m\n\u001B[0;32m--> 162\u001B[0;31m                 \u001B[0mself\u001B[0m\u001B[0;34m.\u001B[0m\u001B[0msession\u001B[0m\u001B[0;34m.\u001B[0m\u001B[0mstart\u001B[0m\u001B[0;34m(\u001B[0m\u001B[0mself\u001B[0m\u001B[0;34m,\u001B[0m \u001B[0;34m**\u001B[0m\u001B[0mkwargs\u001B[0m\u001B[0;34m)\u001B[0m\u001B[0;34m\u001B[0m\u001B[0;34m\u001B[0m\u001B[0m\n\u001B[0m\u001B[1;32m    163\u001B[0m             \u001B[0;32melif\u001B[0m \u001B[0mself\u001B[0m\u001B[0;34m.\u001B[0m\u001B[0mmode\u001B[0m \u001B[0;32min\u001B[0m \u001B[0;34m(\u001B[0m\u001B[0;34m'a'\u001B[0m\u001B[0;34m,\u001B[0m \u001B[0;34m'w'\u001B[0m\u001B[0;34m)\u001B[0m\u001B[0;34m:\u001B[0m\u001B[0;34m\u001B[0m\u001B[0;34m\u001B[0m\u001B[0m\n\u001B[1;32m    164\u001B[0m                 \u001B[0mself\u001B[0m\u001B[0;34m.\u001B[0m\u001B[0msession\u001B[0m \u001B[0;34m=\u001B[0m \u001B[0mWritingSession\u001B[0m\u001B[0;34m(\u001B[0m\u001B[0;34m)\u001B[0m\u001B[0;34m\u001B[0m\u001B[0;34m\u001B[0m\u001B[0m\n",
      "\u001B[0;32mfiona/ogrext.pyx\u001B[0m in \u001B[0;36mfiona.ogrext.Session.start\u001B[0;34m()\u001B[0m\n",
      "\u001B[0;32mfiona/_shim.pyx\u001B[0m in \u001B[0;36mfiona._shim.gdal_open_vector\u001B[0;34m()\u001B[0m\n",
      "\u001B[0;31mDriverError\u001B[0m: data/riolering april 2020/Strengen.shp: No such file or directory"
     ]
    }
   ],
   "source": [
    "df1 = gpd.read_file(r'data/riolering april 2020/Strengen.shp')\n",
    "df1['geometry']"
   ]
  },
  {
   "cell_type": "markdown",
   "id": "021249ec",
   "metadata": {
    "pycharm": {
     "name": "#%% md\n"
    }
   },
   "source": [
    "# Data Preparation"
   ]
  },
  {
   "cell_type": "code",
   "execution_count": null,
   "id": "6566ad4d",
   "metadata": {
    "pycharm": {
     "name": "#%%\n"
    }
   },
   "outputs": [],
   "source": [
    "# Merge de schading aan de riolering data\n",
    "df_riolering_schades = df_riolering.merge(df_schades, how='left', left_on='OBJECTID', right_on='REL_OBJECT', suffixes=(\"_riool\", \"_schades\"))"
   ]
  },
  {
   "cell_type": "code",
   "execution_count": null,
   "id": "2a65d638",
   "metadata": {
    "pycharm": {
     "name": "#%%\n"
    }
   },
   "outputs": [],
   "source": [
    "df_riolering_schades"
   ]
  },
  {
   "cell_type": "code",
   "execution_count": null,
   "id": "ba791ab3",
   "metadata": {
    "pycharm": {
     "name": "#%%\n"
    }
   },
   "outputs": [],
   "source": [
    "df_riolering_schades_clean = df_riolering_schades[['OBJECTID_riool','BEGINDATUM', 'EINDDATUM','BEHEEROBJE_riool','BAB','BAF','BBC','BDD']].copy()\n",
    "df_riolering_schades_clean"
   ]
  },
  {
   "cell_type": "markdown",
   "id": "ce9b3d0d-03df-4c6b-8742-7d6a40b0e56a",
   "metadata": {
    "pycharm": {
     "name": "#%% md\n"
    }
   },
   "source": [
    "# Modelling"
   ]
  },
  {
   "cell_type": "code",
   "execution_count": null,
   "id": "2b5127ad-94bb-40b8-a8de-a38b7cf911bf",
   "metadata": {
    "pycharm": {
     "name": "#%%\n"
    }
   },
   "outputs": [],
   "source": [
    "sns.pairplot(df_riolering_schades)"
   ]
  }
 ],
 "metadata": {
  "colab": {
   "name": "Welcome to DataCamp Workspaces.ipynb",
   "provenance": []
  },
  "kernelspec": {
   "display_name": "Python 3 (ipykernel)",
   "language": "python",
   "name": "python3"
  },
  "language_info": {
   "codemirror_mode": {
    "name": "ipython",
    "version": 3
   },
   "file_extension": ".py",
   "mimetype": "text/x-python",
   "name": "python",
   "nbconvert_exporter": "python",
   "pygments_lexer": "ipython3",
   "version": "3.9.7"
  },
  "varInspector": {
   "cols": {
    "lenName": 16,
    "lenType": 16,
    "lenVar": 40
   },
   "kernels_config": {
    "python": {
     "delete_cmd_postfix": "",
     "delete_cmd_prefix": "del ",
     "library": "var_list.py",
     "varRefreshCmd": "print(var_dic_list())"
    },
    "r": {
     "delete_cmd_postfix": ") ",
     "delete_cmd_prefix": "rm(",
     "library": "var_list.r",
     "varRefreshCmd": "cat(var_dic_list()) "
    }
   },
   "types_to_exclude": [
    "module",
    "function",
    "builtin_function_or_method",
    "instance",
    "_Feature"
   ],
   "window_display": false
  }
 },
 "nbformat": 4,
 "nbformat_minor": 5
}